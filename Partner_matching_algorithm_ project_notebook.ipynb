{
 "cells": [
  {
   "cell_type": "markdown",
   "metadata": {},
   "source": [
    "# Data Analysis: Partner Matching Algorithm"
   ]
  },
  {
   "cell_type": "markdown",
   "metadata": {},
   "source": [
    "## Project Description"
   ]
  },
  {
   "cell_type": "markdown",
   "metadata": {},
   "source": [
    "### Background"
   ]
  },
  {
   "cell_type": "markdown",
   "metadata": {},
   "source": [
    "I have found that many students are eager to find a date during the stressful school life. They post flyer on Price Center, lecture halls, and other places around the campus to find their perfect ones. This offers me an insight to create a group of data analysis code. I want to create a system that gather their personal information and match them in pairs. In this system, personalized and highly matched attributes enable students to more effectively find their partner on the campus, which could help them satisfy their demands."
   ]
  },
  {
   "cell_type": "markdown",
   "metadata": {},
   "source": [
    "### Purpose"
   ]
  },
  {
   "cell_type": "markdown",
   "metadata": {},
   "source": [
    "This project's purpose is to automatically perform a specific matching algorithm on a Dataframe organized in .xlsx form, where the form is given by the results from a survey the questionnaire of which is attached in this project, so as to find out the best matching date for a particular person in the order of best match to worst match based on their answers to the questionnaire. "
   ]
  },
  {
   "cell_type": "markdown",
   "metadata": {},
   "source": [
    "### Concept Of Operation"
   ]
  },
  {
   "cell_type": "markdown",
   "metadata": {},
   "source": [
    "This project provides a questionnaire that the user must copy word by word to collect data from his/her targeted audience. When the data is collected, the user could use the code in this project to generate results for all of the participants to find their best matching dating options.\n",
    "\n",
    "I use the class Person to convert every participate into a python object, so as to more easily and conveniently perform the matching algorithm on them. The scores for each participant are also self-included in the object.\n",
    "\n",
    "At the end, after all of the matching algorithms are performed and the scores are finalized, the matching scores for each person is then concatenated into a single Dataframe, which then could be used to convert to any physical form, like Excel, as needed.\n",
    "The project utilizes and relies on Python library Pandas to convert between Python objects and Dataframe and Excel forms. Everything else is done only in the python standard library, as have taught in the class."
   ]
  },
  {
   "cell_type": "markdown",
   "metadata": {},
   "source": [
    "### Usage"
   ]
  },
  {
   "cell_type": "markdown",
   "metadata": {},
   "source": [
    "The demo could be seen in the JupyterNotebook attached.\n",
    "\n",
    "Once the user has the file with data, number of participants prepared, he/she could run the match() function to generate matching result files for all of their participants. The generated files are in .xlsx form, and they will be present in the same directory as the project itself."
   ]
  },
  {
   "cell_type": "markdown",
   "metadata": {},
   "source": [
    "### Limitations"
   ]
  },
  {
   "cell_type": "markdown",
   "metadata": {},
   "source": [
    "Due to time limitations in developing the code:\n",
    "\n",
    "1. The project could only operate on the specific questionnaire provided by the developer(me). \n",
    "2. The project could only generate one file at a time.\n",
    "3. The project's way of filtering sex orientation is by adding a huge value to the participants that match the person currently in matching, which is not a very good practice in general.\n"
   ]
  },
  {
   "cell_type": "markdown",
   "metadata": {},
   "source": [
    "### Other Words"
   ]
  },
  {
   "cell_type": "markdown",
   "metadata": {},
   "source": [
    "It would take a huge effort to further improve this tool, that is, if this tool is to be generalized to allow customized forms, generate all the files at once, and allow different user customization in how the algorithm should be performed. "
   ]
  },
  {
   "cell_type": "markdown",
   "metadata": {},
   "source": [
    "### Video Demonstration"
   ]
  },
  {
   "cell_type": "markdown",
   "metadata": {},
   "source": [
    "https://drive.google.com/file/d/1LTc1NE5_Q7UG_lyDLndZ8vx8p84oIj6d/view?usp=sharing"
   ]
  },
  {
   "cell_type": "markdown",
   "metadata": {},
   "source": [
    "## Project Code"
   ]
  },
  {
   "cell_type": "markdown",
   "metadata": {},
   "source": [
    "If it makes sense for your project, you can have code and outputs here in the notebook as well."
   ]
  },
  {
   "cell_type": "code",
   "execution_count": 1,
   "metadata": {
    "scrolled": true
   },
   "outputs": [],
   "source": [
    "from my_module.functions import sex_ori, location, diff_prefer, sameness, constellations, comparisons, create_match, read_file\n",
    "from my_module.classes import Person\n",
    "import pandas as pd\n",
    "from scripts.my_script import match\n",
    "pd.options.mode.chained_assignment = None"
   ]
  },
  {
   "cell_type": "code",
   "execution_count": 2,
   "metadata": {},
   "outputs": [
    {
     "name": "stdout",
     "output_type": "stream",
     "text": [
      "Enter the .xlsx file to be processed./Partner_Matching_Survey_Data.xlsx\n",
      "Enter the number of entries in the file26\n",
      "Enter the index of the person you want to render a match file2\n",
      "Matching results for:  Casey\n",
      "    Category       Name  Gender Sex_orientation     Campus_College  Age  \\\n",
      "0        NaN    Hoffman    Male    Heterosexual            Revelle   20   \n",
      "1        NaN    Quennel    Male    Heterosexual  Thurgood Marshall   22   \n",
      "2        NaN     Xavier    Male    Heterosexual            Revelle   20   \n",
      "3        NaN    Ulysses    Male    Heterosexual              Sixth   22   \n",
      "4        NaN    Rodgers    Male       Bi-sexual              Sixth   20   \n",
      "5        NaN    Gillian    Male    Heterosexual  Eleanor Roosevelt   23   \n",
      "6        NaN    Maurice    Male    Heterosexual            Seventh   20   \n",
      "7        NaN      David    Male    Heterosexual        Earl Warren   20   \n",
      "8        NaN   \\tLenard    Male    Heterosexual        Earl Warren   19   \n",
      "9        NaN       Evan    Male    Heterosexual  Thurgood Marshall   19   \n",
      "10       NaN   \\tIsmael    Male    Heterosexual          John Muir   22   \n",
      "11       NaN  Zachariah    Male    Heterosexual          John Muir   22   \n",
      "12       NaN     Philip    Male    Heterosexual          John Muir   23   \n",
      "13       NaN     Branda  Female       Bi-sexual          John Muir   22   \n",
      "14       NaN     Stevie  Female    Heterosexual            Revelle   19   \n",
      "15       NaN     Olivia  Female    Heterosexual            Revelle   21   \n",
      "16       NaN   \\tJoanne  Female    Heterosexual  Eleanor Roosevelt   20   \n",
      "17       NaN      Tammy  Female    Heterosexual  Thurgood Marshall   24   \n",
      "18       NaN     Yvonne  Female    Heterosexual  Eleanor Roosevelt   24   \n",
      "19       NaN   Nathalie  Female    Heterosexual            Seventh   21   \n",
      "20       NaN    Krystal  Female      Homosexual          John Muir   20   \n",
      "21       NaN    Felicia  Female    Heterosexual              Sixth   21   \n",
      "22       NaN    Victoia  Female    Heterosexual        Earl Warren   18   \n",
      "23       NaN  Alexandra  Female    Heterosexual            Seventh   18   \n",
      "24       NaN      Winne  Female      Homosexual        Earl Warren   19   \n",
      "25       NaN      Casey  Female    Heterosexual            Revelle   21   \n",
      "\n",
      "   Age_difference_with_partner      Grade  Height  \\\n",
      "0                Older_than_me   Freshman     178   \n",
      "1                  Do_not_care     Senior     184   \n",
      "2                Older_than_me  Sophomore     174   \n",
      "3                  Similar_age  Sophomore     184   \n",
      "4                  Similar_age     Junior     191   \n",
      "5              Younger_than_me  Sophomore     184   \n",
      "6                  Similar_age   Freshman     178   \n",
      "7                Older_than_me   Freshman     179   \n",
      "8                Older_than_me   Freshman     180   \n",
      "9                  Do_not_care   Freshman     192   \n",
      "10             Younger_than_me     Senior     189   \n",
      "11                 Similar_age     Junior     176   \n",
      "12             Younger_than_me     Senior     183   \n",
      "13                 Similar_age     Junior     176   \n",
      "14               Older_than_me   Freshman     167   \n",
      "15                 Do_not_care  Sophomore     162   \n",
      "16                 Do_not_care     Junior     169   \n",
      "17             Younger_than_me     Senior     163   \n",
      "18             Younger_than_me     Senior     170   \n",
      "19                 Do_not_care  Sophomore     171   \n",
      "20                 Similar_age  Sophomore     177   \n",
      "21               Older_than_me     Junior     158   \n",
      "22                 Do_not_care   Freshman     159   \n",
      "23               Older_than_me   Freshman     150   \n",
      "24                 Similar_age   Freshman     160   \n",
      "25                 Similar_age  Sophomore     164   \n",
      "\n",
      "   Height_difference_with_partner  ... Favorite_season Favorite_weather  \\\n",
      "0                 Shorter_than_me  ...            Fall           Cloudy   \n",
      "1                 Shorter_than_me  ...          Spring            Sunny   \n",
      "2                 Shorter_than_me  ...            Fall            Sunny   \n",
      "3                 Shorter_than_me  ...            Fall            Sunny   \n",
      "4                 Shorter_than_me  ...          Winter           Cloudy   \n",
      "5                 Shorter_than_me  ...          Spring            Sunny   \n",
      "6                 Shorter_than_me  ...          Summer            Rainy   \n",
      "7                     Do_not_care  ...          Winter            Sunny   \n",
      "8                 Shorter_than_me  ...            Fall            Foggy   \n",
      "9                 Shorter_than_me  ...          Summer            Rainy   \n",
      "10                Shorter_than_me  ...            Fall            Rainy   \n",
      "11                    Do_not_care  ...          Summer            Sunny   \n",
      "12                Shorter_than_me  ...          Summer            Sunny   \n",
      "13                Shorter_than_me  ...          Winter            Sunny   \n",
      "14                 Higher_than_me  ...          Summer            Sunny   \n",
      "15                 Higher_than_me  ...          Summer            Rainy   \n",
      "16                    Do_not_care  ...          Summer            Foggy   \n",
      "17                    Do_not_care  ...          Winter            Sunny   \n",
      "18                    Do_not_care  ...          Summer            Sunny   \n",
      "19                    Do_not_care  ...          Winter           Cloudy   \n",
      "20                    Do_not_care  ...            Fall            Sunny   \n",
      "21                 Higher_than_me  ...          Winter           Cloudy   \n",
      "22                 Higher_than_me  ...          Spring            Rainy   \n",
      "23                 Higher_than_me  ...          Spring            Rainy   \n",
      "24                 Higher_than_me  ...          Winter            Sunny   \n",
      "25                 Higher_than_me  ...            Fall            Sunny   \n",
      "\n",
      "   Favorite_color  Favorite_food Person_you_love_or_love_you  \\\n",
      "0            Pink      Thai Food               Person I love   \n",
      "1          Purple  American Food         Person who loves me   \n",
      "2           Green      Thai Food               Person I love   \n",
      "3           Green   Mexican Food               Person I love   \n",
      "4          Yellow   Italian Food               Person I love   \n",
      "5           Black  American Food         Person who loves me   \n",
      "6          Purple   Chinese Food               Person I love   \n",
      "7            Blue  American Food               Person I love   \n",
      "8            Pink   Mexican Food               Person I love   \n",
      "9           Black   Mexican Food               Person I love   \n",
      "10          White  Japanese Food               Person I love   \n",
      "11           Pink  American Food               Person I love   \n",
      "12          Black  American Food               Person I love   \n",
      "13           Blue  American Food               Person I love   \n",
      "14            Red   Chinese Food         Person who loves me   \n",
      "15           Blue  Japanese Food         Person who loves me   \n",
      "16            Red  American Food         Person who loves me   \n",
      "17         Purple     Korea Food         Person who loves me   \n",
      "18           Pink  American Food         Person who loves me   \n",
      "19          White  American Food         Person who loves me   \n",
      "20         Orange  American Food               Person I love   \n",
      "21         Orange   Italian Food         Person who loves me   \n",
      "22         Yellow   Chinese Food         Person who loves me   \n",
      "23         Yellow  Japanese Food         Person who loves me   \n",
      "24          Green     Korea Food         Person who loves me   \n",
      "25         Purple  American Food         Person who loves me   \n",
      "\n",
      "   Attitude_toward_social_events Preferred_attitude_from_your_partner  \\\n",
      "0    I am very excited toward it          I am very excited toward it   \n",
      "1    I am very excited toward it          I am very excited toward it   \n",
      "2                           Okay                                  NaN   \n",
      "3                           Okay          I am very excited toward it   \n",
      "4    I am very excited toward it          I am very excited toward it   \n",
      "5                           Okay                                  NaN   \n",
      "6                           Okay          I do not like social events   \n",
      "7    I am very excited toward it          I am very excited toward it   \n",
      "8    I am very excited toward it          I am very excited toward it   \n",
      "9    I am very excited toward it          I am very excited toward it   \n",
      "10   I am very excited toward it          I am very excited toward it   \n",
      "11   I am very excited toward it          I am very excited toward it   \n",
      "12                          Okay                                  NaN   \n",
      "13   I do not like social events          I am very excited toward it   \n",
      "14   I do not like social events                                 Okay   \n",
      "15   I am very excited toward it          I am very excited toward it   \n",
      "16                          Okay                                 Okay   \n",
      "17   I am very excited toward it                                 Okay   \n",
      "18   I do not like social events          I do not like social events   \n",
      "19   I am very excited toward it          I am very excited toward it   \n",
      "20                          Okay                                 Okay   \n",
      "21   I am very excited toward it                                 Okay   \n",
      "22                          Okay                                 Okay   \n",
      "23   I am very excited toward it          I am very excited toward it   \n",
      "24   I am very excited toward it          I am very excited toward it   \n",
      "25   I am very excited toward it          I do not like social events   \n",
      "\n",
      "   What_type_of_person_you_are_in_the_relationship  \\\n",
      "0                                      More active   \n",
      "1                                     More passive   \n",
      "2                                      More active   \n",
      "3                                     More passive   \n",
      "4                                      More active   \n",
      "5                                     More passive   \n",
      "6                                      More active   \n",
      "7                                      More active   \n",
      "8                                      More active   \n",
      "9                                      More active   \n",
      "10                                     More active   \n",
      "11                                     More active   \n",
      "12                                     More active   \n",
      "13                                    More passive   \n",
      "14                                    More passive   \n",
      "15                                    More passive   \n",
      "16                                    More passive   \n",
      "17                                     More active   \n",
      "18                                     More active   \n",
      "19                                     More active   \n",
      "20                                    More passive   \n",
      "21                                    More passive   \n",
      "22                                    More passive   \n",
      "23                                     More active   \n",
      "24                                     More active   \n",
      "25                                     More active   \n",
      "\n",
      "   Preferred_type_of_person_of_your_partner_in_the_relationship matching_score  \n",
      "0                                        More passive                200000036  \n",
      "1                                         More active                200000034  \n",
      "2                                        More passive                200000032  \n",
      "3                                         More active                200000028  \n",
      "4                                        More passive                200000020  \n",
      "5                                        More passive                200000020  \n",
      "6                                        More passive                200000018  \n",
      "7                                        More passive                200000016  \n",
      "8                                        More passive                200000016  \n",
      "9                                        More passive                200000014  \n",
      "10                                       More passive                200000014  \n",
      "11                                       More passive                200000012  \n",
      "12                                       More passive                200000012  \n",
      "13                                        More active                100000030  \n",
      "14                                        More active                       40  \n",
      "15                                        More active                       38  \n",
      "16                                        More active                       26  \n",
      "17                                        More active                       22  \n",
      "18                                       More passive                       22  \n",
      "19                                       More passive                       22  \n",
      "20                                        More active                       22  \n",
      "21                                        More active                       22  \n",
      "22                                        More active                       18  \n",
      "23                                       More passive                       18  \n",
      "24                                       More passive                       16  \n",
      "25                                       More passive                        0  \n",
      "\n",
      "[26 rows x 26 columns]\n"
     ]
    }
   ],
   "source": [
    "#For the filename, enter either the absolute path(safest) or whatever path the computer could recognize and fetch the file\n",
    "match()"
   ]
  },
  {
   "cell_type": "markdown",
   "metadata": {
    "scrolled": true
   },
   "source": [
    "## Test"
   ]
  },
  {
   "cell_type": "code",
   "execution_count": 3,
   "metadata": {},
   "outputs": [
    {
     "name": "stdout",
     "output_type": "stream",
     "text": [
      "\u001b[1m============================= test session starts ==============================\u001b[0m\n",
      "platform darwin -- Python 3.8.8, pytest-6.2.3, py-1.10.0, pluggy-0.13.1\n",
      "rootdir: /Users/yoloz/Desktop/Partner_Matching_Algorithm_Project\n",
      "plugins: anyio-2.2.0\n",
      "collected 3 items                                                              \u001b[0m\u001b[1m\n",
      "\n",
      "my_module/test_functions.py \u001b[32m.\u001b[0m\u001b[32m.\u001b[0m\u001b[32m.\u001b[0m\u001b[32m                                          [100%]\u001b[0m\n",
      "\n",
      "\u001b[32m============================== \u001b[32m\u001b[1m3 passed\u001b[0m\u001b[32m in 0.98s\u001b[0m\u001b[32m ===============================\u001b[0m\n"
     ]
    }
   ],
   "source": [
    "!pytest my_module/test_functions.py"
   ]
  },
  {
   "cell_type": "markdown",
   "metadata": {},
   "source": [
    "#### Extra Credit (*optional*)\n",
    "\n",
    "Replace all of this text with a brief explanation (~3 sentences) of: \n",
    " "
   ]
  },
  {
   "cell_type": "markdown",
   "metadata": {},
   "source": [
    "1. Your Python Background\n",
    "\n",
    "    I do not have any experience in coding prior to this course. The course and assignments are way more challenging than i thought. But I have learnt a lot and feel excited when doing the project, even though it took me more than thirty hours to finish.\n"
   ]
  },
  {
   "cell_type": "markdown",
   "metadata": {},
   "source": [
    "\n",
    "2. How your project went above and beyond the requirements of the project and/or how you challenged yourself to learn something new with the final project?\n",
    "\n",
    "    In order to successfully complete this project, firstly, I have to understand the One-To-Many and Many-To-Many data relationships which are also utilized in database languages. Secondly, I have to design from scratch a structure that is most easily readable and updatable. Thirdly, although we have learned about pandas in this class, I have to do way more research into how to use this library, including generating an actual file at the end, in order for my ideal structure to be implemented.\n",
    "    \n",
    "    In a word, not only do I have to learn way more about a library, I have to use my new knowledge about the library to design a complicated structure to achieve the goal of readable and easily updatable. \n",
    "\n",
    "    Then through the struggles in coming up with the ideas and researches online, I am able to better understand the power of encapsulation and mudularization as well as object oriented programming. "
   ]
  }
 ],
 "metadata": {
  "kernelspec": {
   "display_name": "Python 3",
   "language": "python",
   "name": "python3"
  },
  "language_info": {
   "codemirror_mode": {
    "name": "ipython",
    "version": 3
   },
   "file_extension": ".py",
   "mimetype": "text/x-python",
   "name": "python",
   "nbconvert_exporter": "python",
   "pygments_lexer": "ipython3",
   "version": "3.8.8"
  }
 },
 "nbformat": 4,
 "nbformat_minor": 2
}
